{
 "cells": [
  {
   "cell_type": "markdown",
   "metadata": {},
   "source": [
    "## Installations"
   ]
  },
  {
   "cell_type": "code",
   "execution_count": 2,
   "metadata": {},
   "outputs": [],
   "source": [
    "from tensorflow.keras.preprocessing.image import ImageDataGenerator\n",
    "from tensorflow.keras.applications import VGG16, ResNet50, EfficientNetB0\n",
    "from tensorflow.keras.layers import Dropout\n",
    "from tensorflow.keras.layers import Flatten, BatchNormalization\n",
    "from tensorflow.keras.layers import Dense\n",
    "from tensorflow.keras.layers import Input\n",
    "from tensorflow.keras.models import Model\n",
    "from tensorflow.keras.optimizers import SGD, Adam\n",
    "from tensorflow.keras.callbacks import EarlyStopping, ModelCheckpoint\n",
    "from sklearn.metrics import classification_report, confusion_matrix\n",
    "from sklearn.model_selection import train_test_split\n",
    "from keras.models import load_model\n",
    "from imutils import paths\n",
    "from PIL import Image\n",
    "from tqdm import tqdm\n",
    "import matplotlib.pyplot as plt\n",
    "import numpy as np\n",
    "import tensorflow as tf\n",
    "import seaborn as sns\n",
    "import shutil\n",
    "import os"
   ]
  },
  {
   "cell_type": "markdown",
   "metadata": {},
   "source": [
    "## Helper Variables & Functions"
   ]
  },
  {
   "cell_type": "code",
   "execution_count": 1,
   "metadata": {},
   "outputs": [],
   "source": [
    "ORIG_INPUT_DATASET = \"House_Room_Dataset/Bedroom\"\n",
    "\n",
    "TRAIN = \"training\"\n",
    "TEST = \"evaluation\"\n",
    "VAL = \"validation\"\n",
    "\n",
    "BASE_PATH = \"dataset\"\n",
    "BATCH_SIZE = 32\n",
    "CLASSES = [\"Modern\", \"Old\"] # \"Neutral\", "
   ]
  },
  {
   "cell_type": "code",
   "execution_count": 3,
   "metadata": {},
   "outputs": [],
   "source": [
    "def plot_hist(hist, metric):\n",
    "    if metric == 'auc':\n",
    "        plt.plot(hist.history[\"auc\"])\n",
    "        plt.plot(hist.history[\"val_auc\"])\n",
    "    else:\n",
    "        plt.plot(hist.history[\"loss\"])\n",
    "        plt.plot(hist.history[\"val_loss\"])\n",
    "    plt.style.use(\"ggplot\")\n",
    "    plt.title(\"model {}\".format(metric))\n",
    "    plt.ylabel(\"{}\".format(metric))\n",
    "    plt.xlabel(\"epoch\")\n",
    "    plt.legend([\"train\", \"validation\"], loc=\"upper left\")\n",
    "    plt.show()"
   ]
  },
  {
   "cell_type": "markdown",
   "metadata": {},
   "source": [
    "## Loading lables"
   ]
  },
  {
   "cell_type": "code",
   "execution_count": 4,
   "metadata": {},
   "outputs": [
    {
     "data": {
      "text/plain": [
       "451"
      ]
     },
     "execution_count": 4,
     "metadata": {},
     "output_type": "execute_result"
    }
   ],
   "source": [
    "with open(\"labels.txt\", 'r') as f:\n",
    "    manual_labels = f.read()\n",
    "    \n",
    "labels = [i for i in manual_labels]\n",
    "len(labels)"
   ]
  },
  {
   "cell_type": "code",
   "execution_count": 5,
   "metadata": {},
   "outputs": [
    {
     "name": "stdout",
     "output_type": "stream",
     "text": [
      "dict_keys(['O', 'M'])\n",
      "dict_values([271, 180])\n"
     ]
    }
   ],
   "source": [
    "from collections import Counter\n",
    "\n",
    "print(Counter(labels).keys()) # equals to list(set(words))\n",
    "print(Counter(labels).values()) # counts the elements' frequency"
   ]
  },
  {
   "cell_type": "markdown",
   "metadata": {},
   "source": [
    "## Train-Test-Val Split"
   ]
  },
  {
   "cell_type": "code",
   "execution_count": 6,
   "metadata": {},
   "outputs": [],
   "source": [
    "# Important to sort the files in the order in which we see them in folder\n",
    "files = os.listdir(ORIG_INPUT_DATASET)\n",
    "files.sort(key=lambda f: int(f.split('_')[1].split('.')[0]))"
   ]
  },
  {
   "cell_type": "code",
   "execution_count": 7,
   "metadata": {},
   "outputs": [],
   "source": [
    "# splitting files into train and test sets\n",
    "trainX, testX, trainY, testY =  train_test_split(files[:len(labels)], labels, stratify=labels, train_size=0.90)"
   ]
  },
  {
   "cell_type": "code",
   "execution_count": 8,
   "metadata": {},
   "outputs": [],
   "source": [
    "# further splitting of train set into train and val sets\n",
    "trainX, valX, trainY, valY = train_test_split(trainX, trainY, stratify=trainY, train_size=0.85)"
   ]
  },
  {
   "cell_type": "code",
   "execution_count": 9,
   "metadata": {},
   "outputs": [
    {
     "data": {
      "text/plain": [
       "(344, 344, 61, 61, 46, 46)"
      ]
     },
     "execution_count": 9,
     "metadata": {},
     "output_type": "execute_result"
    }
   ],
   "source": [
    "len(trainX), len(trainY), len(valX), len(valY),  len(testX), len(testY)"
   ]
  },
  {
   "cell_type": "markdown",
   "metadata": {},
   "source": [
    "## Directory structure for batch processing\n"
   ]
  },
  {
   "cell_type": "code",
   "execution_count": 10,
   "metadata": {},
   "outputs": [
    {
     "name": "stderr",
     "output_type": "stream",
     "text": [
      "Iterating over images in sub folder: 100%|██████████| 344/344 [00:01<00:00, 290.35it/s]\n",
      "Iterating over images in sub folder: 100%|██████████| 46/46 [00:00<00:00, 254.82it/s]\n",
      "Iterating over images in sub folder: 100%|██████████| 61/61 [00:00<00:00, 156.07it/s]\n"
     ]
    }
   ],
   "source": [
    "# Building the dataset properly - \n",
    "splits = [(trainX, trainY), (testX, testY), (valX, valY)]\n",
    "dirnames = ['training', 'evaluation', 'validation']\n",
    "\n",
    "for i, (data,label) in enumerate(splits):\n",
    "    outside_dir=dirnames[i]\n",
    "\n",
    "    for j in tqdm(range(0, len(label)), desc=\"Iterating over images in sub folder\"):\n",
    "        dir = label[j]\n",
    "        \n",
    "        # construct the path to the sub-directory\n",
    "        dirPath = os.path.join(BASE_PATH, outside_dir, dir)\n",
    "        \n",
    "        # if the output directory does not exist, create it\n",
    "        if not os.path.exists(dirPath):\n",
    "            os.makedirs(dirPath)\n",
    "            \n",
    "            \n",
    "        # copy the img to this new directory\n",
    "        src_img = os.path.join(ORIG_INPUT_DATASET, data[j])\n",
    "        shutil.copy(src_img, dirPath)"
   ]
  },
  {
   "cell_type": "code",
   "execution_count": 11,
   "metadata": {},
   "outputs": [],
   "source": [
    "# derive the paths to the training, validation, and testing directories\n",
    "trainPath = os.path.sep.join([BASE_PATH, TRAIN])\n",
    "valPath = os.path.sep.join([BASE_PATH, VAL])\n",
    "testPath = os.path.sep.join([BASE_PATH, TEST])\n"
   ]
  },
  {
   "cell_type": "code",
   "execution_count": 12,
   "metadata": {},
   "outputs": [],
   "source": [
    "# determine the total number of image paths in training, validation,\n",
    "# and testing directories\n",
    "totalTrain = len(list(paths.list_images(trainPath)))\n",
    "totalVal = len(list(paths.list_images(valPath)))\n",
    "totalTest = len(list(paths.list_images(testPath)))\n"
   ]
  },
  {
   "cell_type": "code",
   "execution_count": 13,
   "metadata": {},
   "outputs": [
    {
     "name": "stdout",
     "output_type": "stream",
     "text": [
      "344 46 61\n"
     ]
    }
   ],
   "source": [
    "print(totalTrain, totalTest, totalVal)"
   ]
  },
  {
   "cell_type": "markdown",
   "metadata": {},
   "source": [
    "# Data Augmentation"
   ]
  },
  {
   "cell_type": "code",
   "execution_count": 14,
   "metadata": {},
   "outputs": [],
   "source": [
    "# initialize the training data augmentation object\n",
    "trainAug = ImageDataGenerator(\n",
    "\trotation_range=90,\n",
    "\tzoom_range=[0.5, 1.0],\n",
    "\twidth_shift_range=0.3,\n",
    "\theight_shift_range=0.25,\n",
    "\tshear_range=0.15,\n",
    "\thorizontal_flip=True,\n",
    "\tfill_mode=\"nearest\",\n",
    " \tbrightness_range=[0.2, 1.0]\n",
    "   )"
   ]
  },
  {
   "cell_type": "code",
   "execution_count": 15,
   "metadata": {},
   "outputs": [],
   "source": [
    "# Default for all the above parameters is 0, \n",
    "# meaning we are applying no augmentation to val set\n",
    "# which is exactly what we need because val set should be treated like test set.\n",
    "valAug = ImageDataGenerator()"
   ]
  },
  {
   "cell_type": "code",
   "execution_count": 16,
   "metadata": {},
   "outputs": [],
   "source": [
    "testAug = ImageDataGenerator()"
   ]
  },
  {
   "cell_type": "markdown",
   "metadata": {},
   "source": [
    "### Data Generators"
   ]
  },
  {
   "cell_type": "code",
   "execution_count": 17,
   "metadata": {},
   "outputs": [
    {
     "name": "stdout",
     "output_type": "stream",
     "text": [
      "Found 344 images belonging to 2 classes.\n"
     ]
    }
   ],
   "source": [
    "# Create batches whilst creating augmented images on the fly\n",
    "\n",
    "trainGen = trainAug.flow_from_directory(\n",
    "    directory=trainPath,\n",
    "    target_size=(224,224),\n",
    "    save_to_dir='dataset/augmented/train',\n",
    "    save_prefix='train',\n",
    "    shuffle=True # data will be shuffled between epochs\n",
    ")"
   ]
  },
  {
   "cell_type": "code",
   "execution_count": 18,
   "metadata": {},
   "outputs": [
    {
     "name": "stdout",
     "output_type": "stream",
     "text": [
      "Found 61 images belonging to 2 classes.\n"
     ]
    }
   ],
   "source": [
    "valGen = valAug.flow_from_directory(\n",
    "    directory=valPath,\n",
    "    target_size=(224,224),\n",
    "    shuffle=True\n",
    ")"
   ]
  },
  {
   "cell_type": "code",
   "execution_count": 19,
   "metadata": {},
   "outputs": [
    {
     "name": "stdout",
     "output_type": "stream",
     "text": [
      "Found 46 images belonging to 2 classes.\n"
     ]
    }
   ],
   "source": [
    "testGen = testAug.flow_from_directory(\n",
    "    directory=testPath,\n",
    "    target_size=(224,224),\n",
    "    shuffle=False\n",
    ")"
   ]
  },
  {
   "cell_type": "markdown",
   "metadata": {},
   "source": [
    "### Transfer Learning\n",
    "##### Feature Extraction Step"
   ]
  },
  {
   "cell_type": "code",
   "execution_count": 20,
   "metadata": {},
   "outputs": [],
   "source": [
    "def build_model():\n",
    "    # Building the original base EfficientNet-0 model\n",
    "    baseModel = EfficientNetB0(weights=\"imagenet\", \n",
    "                  include_top=False, # make sure top layer i.e. head is not included\n",
    "                  input_tensor=Input(shape=(224, 224, 3)),\n",
    "                  pooling=\"avg\"\n",
    "                  )\n",
    "    \n",
    "    # freeze the weights\n",
    "    for layer in baseModel.layers:\n",
    "        layer.trainable = False\n",
    "    \n",
    "    # training a new classifier on top\n",
    "    x = baseModel.output\n",
    "    Layer_1 = BatchNormalization()(x)\n",
    "    Layer_2 = Dropout(0.5)(Layer_1)\n",
    "    output_layer = Dense(len(CLASSES), activation=\"softmax\")(Layer_2)\n",
    "    \n",
    "    model = Model(inputs = baseModel.input, outputs = output_layer)\n",
    "    \n",
    "    # compile\n",
    "    opt = Adam(learning_rate=1e-3)\n",
    "    model.compile(optimizer=opt, \n",
    "                loss='binary_crossentropy', \n",
    "                metrics=[tf.keras.metrics.AUC()])\n",
    "    \n",
    "    return model"
   ]
  },
  {
   "cell_type": "code",
   "execution_count": 21,
   "metadata": {},
   "outputs": [],
   "source": [
    "model_preprocess = build_model() "
   ]
  },
  {
   "cell_type": "code",
   "execution_count": 22,
   "metadata": {},
   "outputs": [],
   "source": [
    "# implementing early stopping\n",
    "\n",
    "es = EarlyStopping(monitor='val_loss',  #metric to monitor\n",
    "                   mode='min',  # whether to minimize or maximize the metric monitored\n",
    "                   patience=10,  # how many epochs to wait before declaring stopped training\n",
    "                   verbose=1  # output epoch when training was stopped\n",
    "                   )"
   ]
  },
  {
   "cell_type": "code",
   "execution_count": 23,
   "metadata": {},
   "outputs": [],
   "source": [
    "# model checkpoint - save the best model with best accuracy on val set\n",
    "mc = ModelCheckpoint('feature_extraction.h5', \n",
    "                     monitor='val_loss', \n",
    "                     mode='min', \n",
    "                     verbose=1, # will tell the epoch+ accuracy everytime model is saved\n",
    "                     save_best_only=True)"
   ]
  },
  {
   "cell_type": "code",
   "execution_count": 25,
   "metadata": {},
   "outputs": [
    {
     "name": "stdout",
     "output_type": "stream",
     "text": [
      "Epoch 1/25\n",
      "\n",
      "Epoch 00001: val_loss improved from inf to 0.70273, saving model to feature_extraction.h5\n"
     ]
    },
    {
     "name": "stderr",
     "output_type": "stream",
     "text": [
      "C:\\Users\\seyda\\anaconda3\\envs\\kt\\lib\\site-packages\\keras\\engine\\functional.py:1410: CustomMaskWarning: Custom mask layers require a config and must override get_config. When loading, the custom mask layer must be passed to the custom_objects argument.\n",
      "  layer_config = serialize_layer_fn(layer)\n"
     ]
    },
    {
     "name": "stdout",
     "output_type": "stream",
     "text": [
      "10/10 - 81s - loss: 1.1126 - auc: 0.4848 - val_loss: 0.7027 - val_auc: 0.5609 - 81s/epoch - 8s/step\n",
      "Epoch 2/25\n",
      "\n",
      "Epoch 00002: val_loss improved from 0.70273 to 0.68418, saving model to feature_extraction.h5\n",
      "10/10 - 60s - loss: 0.9495 - auc: 0.5709 - val_loss: 0.6842 - val_auc: 0.6189 - 60s/epoch - 6s/step\n",
      "Epoch 3/25\n",
      "\n",
      "Epoch 00003: val_loss improved from 0.68418 to 0.67637, saving model to feature_extraction.h5\n",
      "10/10 - 63s - loss: 0.8654 - auc: 0.6310 - val_loss: 0.6764 - val_auc: 0.6410 - 63s/epoch - 6s/step\n",
      "Epoch 4/25\n",
      "\n",
      "Epoch 00004: val_loss improved from 0.67637 to 0.67167, saving model to feature_extraction.h5\n",
      "10/10 - 63s - loss: 0.8553 - auc: 0.6518 - val_loss: 0.6717 - val_auc: 0.6520 - 63s/epoch - 6s/step\n",
      "Epoch 5/25\n",
      "\n",
      "Epoch 00005: val_loss improved from 0.67167 to 0.66322, saving model to feature_extraction.h5\n",
      "10/10 - 61s - loss: 0.7824 - auc: 0.6992 - val_loss: 0.6632 - val_auc: 0.6602 - 61s/epoch - 6s/step\n",
      "Epoch 6/25\n",
      "\n",
      "Epoch 00006: val_loss improved from 0.66322 to 0.66304, saving model to feature_extraction.h5\n",
      "10/10 - 58s - loss: 0.7148 - auc: 0.7421 - val_loss: 0.6630 - val_auc: 0.6619 - 58s/epoch - 6s/step\n",
      "Epoch 7/25\n",
      "\n",
      "Epoch 00007: val_loss did not improve from 0.66304\n",
      "10/10 - 57s - loss: 0.6886 - auc: 0.7612 - val_loss: 0.6660 - val_auc: 0.6603 - 57s/epoch - 6s/step\n",
      "Epoch 8/25\n",
      "\n",
      "Epoch 00008: val_loss improved from 0.66304 to 0.66232, saving model to feature_extraction.h5\n",
      "10/10 - 51s - loss: 0.7386 - auc: 0.7396 - val_loss: 0.6623 - val_auc: 0.6678 - 51s/epoch - 5s/step\n",
      "Epoch 9/25\n",
      "\n",
      "Epoch 00009: val_loss improved from 0.66232 to 0.65553, saving model to feature_extraction.h5\n",
      "10/10 - 53s - loss: 0.7041 - auc: 0.7419 - val_loss: 0.6555 - val_auc: 0.6759 - 53s/epoch - 5s/step\n",
      "Epoch 10/25\n",
      "\n",
      "Epoch 00010: val_loss did not improve from 0.65553\n",
      "10/10 - 50s - loss: 0.6857 - auc: 0.7640 - val_loss: 0.6578 - val_auc: 0.6711 - 50s/epoch - 5s/step\n",
      "Epoch 11/25\n",
      "\n",
      "Epoch 00011: val_loss did not improve from 0.65553\n",
      "10/10 - 55s - loss: 0.7072 - auc: 0.7491 - val_loss: 0.6629 - val_auc: 0.6587 - 55s/epoch - 6s/step\n",
      "Epoch 12/25\n",
      "\n",
      "Epoch 00012: val_loss did not improve from 0.65553\n",
      "10/10 - 63s - loss: 0.6235 - auc: 0.8028 - val_loss: 0.6613 - val_auc: 0.6641 - 63s/epoch - 6s/step\n",
      "Epoch 13/25\n",
      "\n",
      "Epoch 00013: val_loss did not improve from 0.65553\n",
      "10/10 - 56s - loss: 0.6379 - auc: 0.7936 - val_loss: 0.6616 - val_auc: 0.6686 - 56s/epoch - 6s/step\n",
      "Epoch 14/25\n",
      "\n",
      "Epoch 00014: val_loss improved from 0.65553 to 0.65542, saving model to feature_extraction.h5\n",
      "10/10 - 53s - loss: 0.7064 - auc: 0.7371 - val_loss: 0.6554 - val_auc: 0.6778 - 53s/epoch - 5s/step\n",
      "Epoch 15/25\n",
      "\n",
      "Epoch 00015: val_loss improved from 0.65542 to 0.65115, saving model to feature_extraction.h5\n",
      "10/10 - 49s - loss: 0.6233 - auc: 0.8080 - val_loss: 0.6512 - val_auc: 0.6810 - 49s/epoch - 5s/step\n",
      "Epoch 16/25\n",
      "\n",
      "Epoch 00016: val_loss improved from 0.65115 to 0.64750, saving model to feature_extraction.h5\n",
      "10/10 - 48s - loss: 0.6677 - auc: 0.7646 - val_loss: 0.6475 - val_auc: 0.6837 - 48s/epoch - 5s/step\n",
      "Epoch 17/25\n",
      "\n",
      "Epoch 00017: val_loss improved from 0.64750 to 0.64555, saving model to feature_extraction.h5\n",
      "10/10 - 48s - loss: 0.6828 - auc: 0.7721 - val_loss: 0.6455 - val_auc: 0.6893 - 48s/epoch - 5s/step\n",
      "Epoch 18/25\n",
      "\n",
      "Epoch 00018: val_loss improved from 0.64555 to 0.64507, saving model to feature_extraction.h5\n",
      "10/10 - 49s - loss: 0.6078 - auc: 0.7994 - val_loss: 0.6451 - val_auc: 0.6947 - 49s/epoch - 5s/step\n",
      "Epoch 19/25\n",
      "\n",
      "Epoch 00019: val_loss did not improve from 0.64507\n",
      "10/10 - 50s - loss: 0.6087 - auc: 0.7984 - val_loss: 0.6478 - val_auc: 0.6926 - 50s/epoch - 5s/step\n",
      "Epoch 20/25\n",
      "\n",
      "Epoch 00020: val_loss did not improve from 0.64507\n",
      "10/10 - 50s - loss: 0.6089 - auc: 0.8051 - val_loss: 0.6466 - val_auc: 0.6905 - 50s/epoch - 5s/step\n",
      "Epoch 21/25\n",
      "\n",
      "Epoch 00021: val_loss did not improve from 0.64507\n",
      "10/10 - 47s - loss: 0.5875 - auc: 0.8100 - val_loss: 0.6498 - val_auc: 0.6837 - 47s/epoch - 5s/step\n",
      "Epoch 22/25\n",
      "\n",
      "Epoch 00022: val_loss did not improve from 0.64507\n",
      "10/10 - 47s - loss: 0.6078 - auc: 0.7969 - val_loss: 0.6595 - val_auc: 0.6767 - 47s/epoch - 5s/step\n",
      "Epoch 23/25\n",
      "\n",
      "Epoch 00023: val_loss did not improve from 0.64507\n",
      "10/10 - 47s - loss: 0.5657 - auc: 0.8230 - val_loss: 0.6585 - val_auc: 0.6815 - 47s/epoch - 5s/step\n",
      "Epoch 24/25\n",
      "\n",
      "Epoch 00024: val_loss improved from 0.64507 to 0.64311, saving model to feature_extraction.h5\n",
      "10/10 - 48s - loss: 0.5992 - auc: 0.8026 - val_loss: 0.6431 - val_auc: 0.7044 - 48s/epoch - 5s/step\n",
      "Epoch 25/25\n",
      "\n",
      "Epoch 00025: val_loss did not improve from 0.64311\n",
      "10/10 - 49s - loss: 0.5973 - auc: 0.8094 - val_loss: 0.6488 - val_auc: 0.7030 - 49s/epoch - 5s/step\n"
     ]
    }
   ],
   "source": [
    "# Training the model\n",
    "hist = model_preprocess.fit(\n",
    "    x=trainGen,\n",
    "    epochs=25,\n",
    "    verbose=2,\n",
    "    validation_data=valGen,\n",
    "    # shuffle=True, # argument is ignored when `x` is a generator\n",
    "    steps_per_epoch=totalTrain // BATCH_SIZE,\n",
    "    callbacks=[es, mc]\n",
    ")"
   ]
  },
  {
   "cell_type": "code",
   "execution_count": 26,
   "metadata": {},
   "outputs": [
    {
     "data": {
      "image/png": "[encoded data removed]",
      "text/plain": [
       "<Figure size 432x288 with 1 Axes>"
      ]
     },
     "metadata": {
      "needs_background": "light"
     },
     "output_type": "display_data"
    }
   ],
   "source": [
    "# plotting losses to see if it would have benefitted from more epochs\n",
    "\n",
    "plot_hist(hist, metric=\"loss\")"
   ]
  },
  {
   "cell_type": "code",
   "execution_count": 27,
   "metadata": {},
   "outputs": [
    {
     "data": {
      "image/png": "[encoded data removed]",
      "text/plain": [
       "<Figure size 432x288 with 1 Axes>"
      ]
     },
     "metadata": {},
     "output_type": "display_data"
    }
   ],
   "source": [
    "plot_hist(hist, metric=\"auc\")"
   ]
  },
  {
   "cell_type": "code",
   "execution_count": 47,
   "metadata": {},
   "outputs": [
    {
     "name": "stdout",
     "output_type": "stream",
     "text": [
      "32\n"
     ]
    }
   ],
   "source": [
    "print(BATCH_SIZE)"
   ]
  },
  {
   "cell_type": "code",
   "execution_count": 28,
   "metadata": {},
   "outputs": [
    {
     "name": "stdout",
     "output_type": "stream",
     "text": [
      "No. of test images 46\n",
      "{'M': 0, 'O': 1}\n"
     ]
    },
    {
     "data": {
      "image/png": "[encoded data removed]",
      "text/plain": [
       "<Figure size 432x288 with 2 Axes>"
      ]
     },
     "metadata": {},
     "output_type": "display_data"
    }
   ],
   "source": [
    "# Checking the performance on testset\n",
    "testGen.reset()\n",
    "\n",
    "predIdxs = model_preprocess.predict(x=testGen, \n",
    "                                    steps=(totalTest // BATCH_SIZE) + 1\n",
    "                                    )\n",
    "\n",
    "predIdxs = np.argmax(predIdxs, axis = 1)\n",
    "print(\"No. of test images\", len(predIdxs))\n",
    "print(testGen.class_indices)\n",
    "\n",
    "cm = confusion_matrix(testGen.classes, predIdxs)\n",
    "\n",
    "heatmap = sns.heatmap(cm, annot=True)\n",
    "\n",
    "plt.xlabel(\"Predicted\") \n",
    "plt.ylabel(\"Actual\")\n",
    "plt.show()"
   ]
  },
  {
   "cell_type": "code",
   "execution_count": 29,
   "metadata": {},
   "outputs": [],
   "source": [
    "def fine_tune_model(model):\n",
    "    \n",
    "    # unfreeze last conv block i.e. block7a which can be found in top 20 layers\n",
    "    for layer in model.layers[-20:]:\n",
    "        if not isinstance(layer, BatchNormalization):\n",
    "            layer.trainable = True\n",
    "            \n",
    "    # check which of these are trainable and which aren't\n",
    "    for layer in model.layers:\n",
    "\t    print(\"{}: {}\".format(layer, layer.trainable))\n",
    "     \n",
    "     \n",
    "    # compile (with an even smaller learning rate)\n",
    "    opt = Adam(learning_rate=1e-5)\n",
    "    model.compile(optimizer=opt, \n",
    "                loss='binary_crossentropy', \n",
    "                metrics=[tf.keras.metrics.AUC()])\n",
    "    \n",
    "    return model"
   ]
  },
  {
   "cell_type": "code",
   "execution_count": 30,
   "metadata": {},
   "outputs": [
    {
     "name": "stdout",
     "output_type": "stream",
     "text": [
      "<keras.engine.input_layer.InputLayer object at 0x000002423FA23B20>: False\n",
      "<keras.layers.preprocessing.image_preprocessing.Rescaling object at 0x0000024269B63190>: False\n",
      "<keras.layers.preprocessing.normalization.Normalization object at 0x0000024269B632E0>: False\n",
      "<keras.layers.convolutional.ZeroPadding2D object at 0x0000024269B63970>: False\n",
      "<keras.layers.convolutional.Conv2D object at 0x0000024269BD68B0>: False\n",
      "<keras.layers.normalization.batch_normalization.BatchNormalization object at 0x0000024269BD67F0>: False\n",
      "<keras.layers.core.activation.Activation object at 0x0000024269BF85B0>: False\n",
      "<keras.layers.convolutional.DepthwiseConv2D object at 0x0000024269C3AFA0>: False\n",
      "<keras.layers.normalization.batch_normalization.BatchNormalization object at 0x0000024269C7CA90>: False\n",
      "<keras.layers.core.activation.Activation object at 0x0000024269C7C190>: False\n",
      "<keras.layers.pooling.GlobalAveragePooling2D object at 0x0000024269C3A4F0>: False\n",
      "<keras.layers.core.reshape.Reshape object at 0x0000024269C76880>: False\n",
      "<keras.layers.convolutional.Conv2D object at 0x0000024269CAD820>: False\n",
      "<keras.layers.convolutional.Conv2D object at 0x0000024269CADC10>: False\n",
      "<keras.layers.merge.Multiply object at 0x0000024269CAF6D0>: False\n",
      "<keras.layers.convolutional.Conv2D object at 0x0000024269CBE250>: False\n",
      "<keras.layers.normalization.batch_normalization.BatchNormalization object at 0x0000024269CC2070>: False\n",
      "<keras.layers.convolutional.Conv2D object at 0x0000024269CC28B0>: False\n",
      "<keras.layers.normalization.batch_normalization.BatchNormalization object at 0x0000024269CC8190>: False\n",
      "<keras.layers.core.activation.Activation object at 0x0000024269CCF1F0>: False\n",
      "<keras.layers.convolutional.ZeroPadding2D object at 0x0000024269CCF820>: False\n",
      "<keras.layers.convolutional.DepthwiseConv2D object at 0x0000024269CD8AF0>: False\n",
      "<keras.layers.normalization.batch_normalization.BatchNormalization object at 0x0000024269CDBB50>: False\n",
      "<keras.layers.core.activation.Activation object at 0x0000024269CE4370>: False\n",
      "<keras.layers.pooling.GlobalAveragePooling2D object at 0x0000024269CE4E20>: False\n",
      "<keras.layers.core.reshape.Reshape object at 0x0000024269CEE8B0>: False\n",
      "<keras.layers.convolutional.Conv2D object at 0x0000024269CEE580>: False\n",
      "<keras.layers.convolutional.Conv2D object at 0x0000024269CF6580>: False\n",
      "<keras.layers.merge.Multiply object at 0x0000024269CFCAC0>: False\n",
      "<keras.layers.convolutional.Conv2D object at 0x0000024269CE4B50>: False\n",
      "<keras.layers.normalization.batch_normalization.BatchNormalization object at 0x0000024269D07340>: False\n",
      "<keras.layers.convolutional.Conv2D object at 0x0000024269D0A100>: False\n",
      "<keras.layers.normalization.batch_normalization.BatchNormalization object at 0x0000024269D0A3D0>: False\n",
      "<keras.layers.core.activation.Activation object at 0x0000024269D105B0>: False\n",
      "<keras.layers.convolutional.DepthwiseConv2D object at 0x0000024269D17460>: False\n",
      "<keras.layers.normalization.batch_normalization.BatchNormalization object at 0x0000024269D10220>: False\n",
      "<keras.layers.core.activation.Activation object at 0x0000024269D242E0>: False\n",
      "<keras.layers.pooling.GlobalAveragePooling2D object at 0x0000024269D296A0>: False\n",
      "<keras.layers.core.reshape.Reshape object at 0x0000024269D29CD0>: False\n",
      "<keras.layers.convolutional.Conv2D object at 0x0000024269D243D0>: False\n",
      "<keras.layers.convolutional.Conv2D object at 0x0000024269D30AC0>: False\n",
      "<keras.layers.merge.Multiply object at 0x0000024269D30F10>: False\n",
      "<keras.layers.convolutional.Conv2D object at 0x0000024269D1ED30>: False\n",
      "<keras.layers.normalization.batch_normalization.BatchNormalization object at 0x0000024269D44340>: False\n",
      "<keras.layers.core.dropout.Dropout object at 0x0000024269D48490>: False\n",
      "<keras.layers.merge.Add object at 0x0000024269D48100>: False\n",
      "<keras.layers.convolutional.Conv2D object at 0x0000024269D24640>: False\n",
      "<keras.layers.normalization.batch_normalization.BatchNormalization object at 0x0000024269D44B20>: False\n",
      "<keras.layers.core.activation.Activation object at 0x0000024269D4B4F0>: False\n",
      "<keras.layers.convolutional.ZeroPadding2D object at 0x0000024269D3D6A0>: False\n",
      "<keras.layers.convolutional.DepthwiseConv2D object at 0x0000024269AA0EB0>: False\n",
      "<keras.layers.normalization.batch_normalization.BatchNormalization object at 0x0000024266E8B970>: False\n",
      "<keras.layers.core.activation.Activation object at 0x0000024269D370A0>: False\n",
      "<keras.layers.pooling.GlobalAveragePooling2D object at 0x0000024269CE9F40>: False\n",
      "<keras.layers.core.reshape.Reshape object at 0x0000024269CDB4F0>: False\n",
      "<keras.layers.convolutional.Conv2D object at 0x0000024269D04490>: False\n",
      "<keras.layers.convolutional.Conv2D object at 0x0000024269BF8AC0>: False\n",
      "<keras.layers.merge.Multiply object at 0x0000024269D0A340>: False\n",
      "<keras.layers.convolutional.Conv2D object at 0x0000024269CA1BE0>: False\n",
      "<keras.layers.normalization.batch_normalization.BatchNormalization object at 0x0000024269CAF250>: False\n",
      "<keras.layers.convolutional.Conv2D object at 0x0000024269CC2370>: False\n",
      "<keras.layers.normalization.batch_normalization.BatchNormalization object at 0x0000024269CCF8E0>: False\n",
      "<keras.layers.core.activation.Activation object at 0x00000242699C9430>: False\n",
      "<keras.layers.convolutional.DepthwiseConv2D object at 0x00000242699C9E20>: False\n",
      "<keras.layers.normalization.batch_normalization.BatchNormalization object at 0x00000242699BCFD0>: False\n",
      "<keras.layers.core.activation.Activation object at 0x0000024269D5D460>: False\n",
      "<keras.layers.pooling.GlobalAveragePooling2D object at 0x0000024269D5D0D0>: False\n",
      "<keras.layers.core.reshape.Reshape object at 0x0000024269D62A30>: False\n",
      "<keras.layers.convolutional.Conv2D object at 0x0000024269D71700>: False\n",
      "<keras.layers.convolutional.Conv2D object at 0x0000024269D71910>: False\n",
      "<keras.layers.merge.Multiply object at 0x0000024269D77D90>: False\n",
      "<keras.layers.convolutional.Conv2D object at 0x0000024269D7D7C0>: False\n",
      "<keras.layers.normalization.batch_normalization.BatchNormalization object at 0x0000024269D83940>: False\n",
      "<keras.layers.core.dropout.Dropout object at 0x0000024269D887C0>: False\n",
      "<keras.layers.merge.Add object at 0x0000024269D8D9A0>: False\n",
      "<keras.layers.convolutional.Conv2D object at 0x0000024269D8DA30>: False\n",
      "<keras.layers.normalization.batch_normalization.BatchNormalization object at 0x0000024269D94100>: False\n",
      "<keras.layers.core.activation.Activation object at 0x0000024269D95370>: False\n",
      "<keras.layers.convolutional.ZeroPadding2D object at 0x0000024269D95F70>: False\n",
      "<keras.layers.convolutional.DepthwiseConv2D object at 0x0000024269D83670>: False\n",
      "<keras.layers.normalization.batch_normalization.BatchNormalization object at 0x0000024269DA68E0>: False\n",
      "<keras.layers.core.activation.Activation object at 0x0000024269DAD400>: False\n",
      "<keras.layers.pooling.GlobalAveragePooling2D object at 0x0000024269DADD60>: False\n",
      "<keras.layers.core.reshape.Reshape object at 0x0000024269D9FD90>: False\n",
      "<keras.layers.convolutional.Conv2D object at 0x0000024269DB90D0>: False\n",
      "<keras.layers.convolutional.Conv2D object at 0x0000024269DAFFD0>: False\n",
      "<keras.layers.merge.Multiply object at 0x0000024269DBFF70>: False\n",
      "<keras.layers.convolutional.Conv2D object at 0x0000024269DC7A90>: False\n",
      "<keras.layers.normalization.batch_normalization.BatchNormalization object at 0x0000024269DB9E80>: False\n",
      "<keras.layers.convolutional.Conv2D object at 0x0000024269D9F880>: False\n",
      "<keras.layers.normalization.batch_normalization.BatchNormalization object at 0x0000024269BD67C0>: False\n",
      "<keras.layers.core.activation.Activation object at 0x0000024269D690D0>: False\n",
      "<keras.layers.convolutional.DepthwiseConv2D object at 0x0000024269D9FB50>: False\n",
      "<keras.layers.normalization.batch_normalization.BatchNormalization object at 0x0000024269DCD3A0>: False\n",
      "<keras.layers.core.activation.Activation object at 0x0000024269DCDDF0>: False\n",
      "<keras.layers.pooling.GlobalAveragePooling2D object at 0x0000024269DD6610>: False\n",
      "<keras.layers.core.reshape.Reshape object at 0x0000024269DD7490>: False\n",
      "<keras.layers.convolutional.Conv2D object at 0x0000024269DD7D90>: False\n",
      "<keras.layers.convolutional.Conv2D object at 0x0000024269DD9D30>: False\n",
      "<keras.layers.merge.Multiply object at 0x0000024269DDD2B0>: False\n",
      "<keras.layers.convolutional.Conv2D object at 0x0000024269DD7940>: False\n",
      "<keras.layers.normalization.batch_normalization.BatchNormalization object at 0x0000024269DDDCD0>: False\n",
      "<keras.layers.core.dropout.Dropout object at 0x0000024269DEB2B0>: False\n",
      "<keras.layers.merge.Add object at 0x0000024269DEB070>: False\n",
      "<keras.layers.convolutional.Conv2D object at 0x0000024269DE8C10>: False\n",
      "<keras.layers.normalization.batch_normalization.BatchNormalization object at 0x0000024269DE82E0>: False\n",
      "<keras.layers.core.activation.Activation object at 0x0000024269DF92E0>: False\n",
      "<keras.layers.convolutional.DepthwiseConv2D object at 0x0000024269DF9220>: False\n",
      "<keras.layers.normalization.batch_normalization.BatchNormalization object at 0x0000024269DFDFD0>: False\n",
      "<keras.layers.core.activation.Activation object at 0x0000024269E0B0A0>: False\n",
      "<keras.layers.pooling.GlobalAveragePooling2D object at 0x0000024269E0B700>: False\n",
      "<keras.layers.core.reshape.Reshape object at 0x0000024269E08400>: False\n",
      "<keras.layers.convolutional.Conv2D object at 0x0000024269E1A3D0>: False\n",
      "<keras.layers.convolutional.Conv2D object at 0x0000024269E1A940>: False\n",
      "<keras.layers.merge.Multiply object at 0x0000024269E12E20>: False\n",
      "<keras.layers.convolutional.Conv2D object at 0x0000024269E279D0>: False\n",
      "<keras.layers.normalization.batch_normalization.BatchNormalization object at 0x0000024269E2DB20>: False\n",
      "<keras.layers.core.dropout.Dropout object at 0x0000024269E349A0>: False\n",
      "<keras.layers.merge.Add object at 0x0000024269E38B80>: False\n",
      "<keras.layers.convolutional.Conv2D object at 0x0000024269E38C10>: False\n",
      "<keras.layers.normalization.batch_normalization.BatchNormalization object at 0x0000024269E3D730>: False\n",
      "<keras.layers.core.activation.Activation object at 0x0000024269E48310>: False\n",
      "<keras.layers.convolutional.DepthwiseConv2D object at 0x0000024269E487C0>: False\n",
      "<keras.layers.normalization.batch_normalization.BatchNormalization object at 0x0000024269E348B0>: False\n",
      "<keras.layers.core.activation.Activation object at 0x0000024269E57100>: False\n",
      "<keras.layers.pooling.GlobalAveragePooling2D object at 0x0000024269E57A00>: False\n",
      "<keras.layers.core.reshape.Reshape object at 0x0000024269E48940>: False\n",
      "<keras.layers.convolutional.Conv2D object at 0x0000024269E38040>: False\n",
      "<keras.layers.convolutional.Conv2D object at 0x0000024269E0B3D0>: False\n",
      "<keras.layers.merge.Multiply object at 0x0000024269DF9DF0>: False\n",
      "<keras.layers.convolutional.Conv2D object at 0x0000024269CF60D0>: False\n",
      "<keras.layers.normalization.batch_normalization.BatchNormalization object at 0x0000024269BD6160>: False\n",
      "<keras.layers.convolutional.Conv2D object at 0x0000024269DD9EB0>: False\n",
      "<keras.layers.normalization.batch_normalization.BatchNormalization object at 0x0000024269E5E3A0>: False\n",
      "<keras.layers.core.activation.Activation object at 0x0000024269E61490>: False\n",
      "<keras.layers.convolutional.DepthwiseConv2D object at 0x0000024269E61340>: False\n",
      "<keras.layers.normalization.batch_normalization.BatchNormalization object at 0x0000024269E65760>: False\n",
      "<keras.layers.core.activation.Activation object at 0x0000024269E69280>: False\n",
      "<keras.layers.pooling.GlobalAveragePooling2D object at 0x0000024269E69BE0>: False\n",
      "<keras.layers.core.reshape.Reshape object at 0x0000024269E65820>: False\n",
      "<keras.layers.convolutional.Conv2D object at 0x0000024269E754C0>: False\n",
      "<keras.layers.convolutional.Conv2D object at 0x0000024269E758B0>: False\n",
      "<keras.layers.merge.Multiply object at 0x0000024269E814C0>: False\n",
      "<keras.layers.convolutional.Conv2D object at 0x0000024269E87B50>: False\n",
      "<keras.layers.normalization.batch_normalization.BatchNormalization object at 0x0000024269E87E80>: False\n",
      "<keras.layers.core.dropout.Dropout object at 0x0000024269E8FEB0>: False\n",
      "<keras.layers.merge.Add object at 0x0000024269E94520>: False\n",
      "<keras.layers.convolutional.Conv2D object at 0x0000024269E942B0>: False\n",
      "<keras.layers.normalization.batch_normalization.BatchNormalization object at 0x0000024269E99550>: False\n",
      "<keras.layers.core.activation.Activation object at 0x0000024269EA40D0>: False\n",
      "<keras.layers.convolutional.DepthwiseConv2D object at 0x0000024269EA4BB0>: False\n",
      "<keras.layers.normalization.batch_normalization.BatchNormalization object at 0x0000024269EA85B0>: False\n",
      "<keras.layers.core.activation.Activation object at 0x000002426AE801F0>: False\n",
      "<keras.layers.pooling.GlobalAveragePooling2D object at 0x000002426AE80A30>: False\n",
      "<keras.layers.core.reshape.Reshape object at 0x0000024269EA8670>: False\n",
      "<keras.layers.convolutional.Conv2D object at 0x000002426AE8E310>: False\n",
      "<keras.layers.convolutional.Conv2D object at 0x000002426AE87F10>: False\n",
      "<keras.layers.merge.Multiply object at 0x000002426AE93790>: False\n",
      "<keras.layers.convolutional.Conv2D object at 0x000002426AE984C0>: False\n",
      "<keras.layers.normalization.batch_normalization.BatchNormalization object at 0x000002426AE9CB50>: False\n",
      "<keras.layers.core.dropout.Dropout object at 0x000002426AE98B20>: False\n",
      "<keras.layers.merge.Add object at 0x000002426AE98400>: False\n",
      "<keras.layers.convolutional.Conv2D object at 0x000002426AEAC3A0>: False\n",
      "<keras.layers.normalization.batch_normalization.BatchNormalization object at 0x000002426AEB48B0>: False\n",
      "<keras.layers.core.activation.Activation object at 0x000002426AEAC910>: False\n",
      "<keras.layers.convolutional.ZeroPadding2D object at 0x000002426AEA48E0>: False\n",
      "<keras.layers.convolutional.DepthwiseConv2D object at 0x000002426AE80820>: False\n",
      "<keras.layers.normalization.batch_normalization.BatchNormalization object at 0x0000024269E7C400>: False\n",
      "<keras.layers.core.activation.Activation object at 0x000002426AEACCD0>: False\n",
      "<keras.layers.pooling.GlobalAveragePooling2D object at 0x0000024269DD9BB0>: False\n",
      "<keras.layers.core.reshape.Reshape object at 0x0000024269E63040>: False\n",
      "<keras.layers.convolutional.Conv2D object at 0x0000024269E6D460>: False\n",
      "<keras.layers.convolutional.Conv2D object at 0x000002426AE9F400>: False\n",
      "<keras.layers.merge.Multiply object at 0x000002426AE9F370>: False\n",
      "<keras.layers.convolutional.Conv2D object at 0x000002426AEBAF40>: False\n",
      "<keras.layers.normalization.batch_normalization.BatchNormalization object at 0x000002426AEC21C0>: False\n",
      "<keras.layers.convolutional.Conv2D object at 0x000002426AEC9340>: False\n",
      "<keras.layers.normalization.batch_normalization.BatchNormalization object at 0x000002426AEC9730>: False\n",
      "<keras.layers.core.activation.Activation object at 0x000002426AECC460>: False\n",
      "<keras.layers.convolutional.DepthwiseConv2D object at 0x000002426AED3310>: False\n",
      "<keras.layers.normalization.batch_normalization.BatchNormalization object at 0x000002426AEC22B0>: False\n",
      "<keras.layers.core.activation.Activation object at 0x000002426AEE10A0>: False\n",
      "<keras.layers.pooling.GlobalAveragePooling2D object at 0x000002426AEE53A0>: False\n",
      "<keras.layers.core.reshape.Reshape object at 0x000002426AEE5B80>: False\n",
      "<keras.layers.convolutional.Conv2D object at 0x000002426AEE1280>: False\n",
      "<keras.layers.convolutional.Conv2D object at 0x000002426AEE11C0>: False\n",
      "<keras.layers.merge.Multiply object at 0x000002426AEEEEB0>: False\n",
      "<keras.layers.convolutional.Conv2D object at 0x000002426AEDAB20>: False\n",
      "<keras.layers.normalization.batch_normalization.BatchNormalization object at 0x000002426AEFF1C0>: False\n",
      "<keras.layers.core.dropout.Dropout object at 0x000002426AF03670>: False\n",
      "<keras.layers.merge.Add object at 0x000002426AEF9F10>: False\n",
      "<keras.layers.convolutional.Conv2D object at 0x000002426AEFF670>: False\n",
      "<keras.layers.normalization.batch_normalization.BatchNormalization object at 0x000002426AF111C0>: False\n",
      "<keras.layers.core.activation.Activation object at 0x000002426AEE14F0>: False\n",
      "<keras.layers.convolutional.DepthwiseConv2D object at 0x000002426AF03AF0>: False\n",
      "<keras.layers.normalization.batch_normalization.BatchNormalization object at 0x000002426AF1D910>: False\n",
      "<keras.layers.core.activation.Activation object at 0x000002426AF23430>: False\n",
      "<keras.layers.pooling.GlobalAveragePooling2D object at 0x000002426AF23D90>: False\n",
      "<keras.layers.core.reshape.Reshape object at 0x000002426AF264C0>: False\n",
      "<keras.layers.convolutional.Conv2D object at 0x000002426AF306A0>: False\n",
      "<keras.layers.convolutional.Conv2D object at 0x000002426AF30A90>: False\n",
      "<keras.layers.merge.Multiply object at 0x000002426AF3D670>: False\n",
      "<keras.layers.convolutional.Conv2D object at 0x000002426AF440A0>: False\n",
      "<keras.layers.normalization.batch_normalization.BatchNormalization object at 0x000002426AF3DD60>: False\n",
      "<keras.layers.core.dropout.Dropout object at 0x000002426AF11790>: False\n",
      "<keras.layers.merge.Add object at 0x000002426AF26880>: False\n",
      "<keras.layers.convolutional.Conv2D object at 0x000002426AEDA3A0>: False\n",
      "<keras.layers.normalization.batch_normalization.BatchNormalization object at 0x000002426AEE1F70>: False\n",
      "<keras.layers.core.activation.Activation object at 0x000002426AE9F700>: False\n",
      "<keras.layers.convolutional.DepthwiseConv2D object at 0x0000024269CBE100>: False\n",
      "<keras.layers.normalization.batch_normalization.BatchNormalization object at 0x000002426AF23A60>: False\n",
      "<keras.layers.core.activation.Activation object at 0x000002426AF4D0D0>: False\n",
      "<keras.layers.pooling.GlobalAveragePooling2D object at 0x000002426AF4F3D0>: False\n",
      "<keras.layers.core.reshape.Reshape object at 0x000002426AF4FBB0>: False\n",
      "<keras.layers.convolutional.Conv2D object at 0x000002426AF4D2B0>: False\n",
      "<keras.layers.convolutional.Conv2D object at 0x000002426AF4D1F0>: False\n",
      "<keras.layers.merge.Multiply object at 0x000002426AF55EE0>: False\n",
      "<keras.layers.convolutional.Conv2D object at 0x000002426AF4C880>: False\n",
      "<keras.layers.normalization.batch_normalization.BatchNormalization object at 0x000002426AF611F0>: False\n",
      "<keras.layers.core.dropout.Dropout object at 0x000002426AF65280>: False\n",
      "<keras.layers.merge.Add object at 0x000002426AF65310>: False\n",
      "<keras.layers.convolutional.Conv2D object at 0x000002426AF618E0>: True\n",
      "<keras.layers.normalization.batch_normalization.BatchNormalization object at 0x000002426AF72280>: False\n",
      "<keras.layers.core.activation.Activation object at 0x000002426AF6A2B0>: True\n",
      "<keras.layers.convolutional.DepthwiseConv2D object at 0x000002426AF72A00>: True\n",
      "<keras.layers.normalization.batch_normalization.BatchNormalization object at 0x000002426AF7C970>: False\n",
      "<keras.layers.core.activation.Activation object at 0x000002426AF83490>: True\n",
      "<keras.layers.pooling.GlobalAveragePooling2D object at 0x000002426AF83DF0>: True\n",
      "<keras.layers.core.reshape.Reshape object at 0x000002426AF84520>: True\n",
      "<keras.layers.convolutional.Conv2D object at 0x000002426AF906D0>: True\n",
      "<keras.layers.convolutional.Conv2D object at 0x000002426AF90AC0>: True\n",
      "<keras.layers.merge.Multiply object at 0x000002426AF9C6A0>: True\n",
      "<keras.layers.convolutional.Conv2D object at 0x000002426AFA40D0>: True\n",
      "<keras.layers.normalization.batch_normalization.BatchNormalization object at 0x000002426AFA4280>: False\n",
      "<keras.layers.convolutional.Conv2D object at 0x0000024269C3A4C0>: True\n",
      "<keras.layers.normalization.batch_normalization.BatchNormalization object at 0x000002426AFAE100>: False\n",
      "<keras.layers.core.activation.Activation object at 0x000002426AFB5160>: True\n",
      "<keras.layers.pooling.GlobalAveragePooling2D object at 0x000002426AFB5C40>: True\n",
      "<keras.layers.normalization.batch_normalization.BatchNormalization object at 0x0000024269B63160>: True\n",
      "<keras.layers.core.dropout.Dropout object at 0x000002426AF0A0D0>: True\n",
      "<keras.layers.core.dense.Dense object at 0x000002426B01AF10>: True\n"
     ]
    }
   ],
   "source": [
    "model_fine_tuned = fine_tune_model(model_preprocess)\n"
   ]
  },
  {
   "cell_type": "code",
   "execution_count": 31,
   "metadata": {},
   "outputs": [
    {
     "name": "stdout",
     "output_type": "stream",
     "text": [
      "Epoch 1/50\n",
      "\n",
      "Epoch 00001: val_loss improved from inf to 0.64890, saving model to fine_tuned_house.h5\n"
     ]
    },
    {
     "name": "stderr",
     "output_type": "stream",
     "text": [
      "C:\\Users\\seyda\\anaconda3\\envs\\kt\\lib\\site-packages\\keras\\engine\\functional.py:1410: CustomMaskWarning: Custom mask layers require a config and must override get_config. When loading, the custom mask layer must be passed to the custom_objects argument.\n",
      "  layer_config = serialize_layer_fn(layer)\n"
     ]
    },
    {
     "name": "stdout",
     "output_type": "stream",
     "text": [
      "10/10 - 113s - loss: 0.6030 - auc_1: 0.8036 - val_loss: 0.6489 - val_auc_1: 0.7044 - 113s/epoch - 11s/step\n",
      "Epoch 2/50\n",
      "\n",
      "Epoch 00002: val_loss did not improve from 0.64890\n",
      "10/10 - 69s - loss: 0.5544 - auc_1: 0.8230 - val_loss: 0.6511 - val_auc_1: 0.7060 - 69s/epoch - 7s/step\n",
      "Epoch 3/50\n",
      "\n",
      "Epoch 00003: val_loss did not improve from 0.64890\n",
      "10/10 - 62s - loss: 0.6365 - auc_1: 0.7978 - val_loss: 0.6529 - val_auc_1: 0.7030 - 62s/epoch - 6s/step\n",
      "Epoch 4/50\n",
      "\n",
      "Epoch 00004: val_loss did not improve from 0.64890\n",
      "10/10 - 59s - loss: 0.5866 - auc_1: 0.8088 - val_loss: 0.6549 - val_auc_1: 0.7030 - 59s/epoch - 6s/step\n",
      "Epoch 5/50\n",
      "\n",
      "Epoch 00005: val_loss did not improve from 0.64890\n",
      "10/10 - 58s - loss: 0.6127 - auc_1: 0.7988 - val_loss: 0.6565 - val_auc_1: 0.7028 - 58s/epoch - 6s/step\n",
      "Epoch 6/50\n",
      "\n",
      "Epoch 00006: val_loss did not improve from 0.64890\n",
      "10/10 - 62s - loss: 0.5964 - auc_1: 0.8062 - val_loss: 0.6581 - val_auc_1: 0.7042 - 62s/epoch - 6s/step\n",
      "Epoch 7/50\n",
      "\n",
      "Epoch 00007: val_loss did not improve from 0.64890\n",
      "10/10 - 65s - loss: 0.5737 - auc_1: 0.8187 - val_loss: 0.6594 - val_auc_1: 0.7037 - 65s/epoch - 6s/step\n",
      "Epoch 8/50\n",
      "\n",
      "Epoch 00008: val_loss did not improve from 0.64890\n",
      "10/10 - 66s - loss: 0.6027 - auc_1: 0.8110 - val_loss: 0.6605 - val_auc_1: 0.7075 - 66s/epoch - 7s/step\n",
      "Epoch 9/50\n",
      "\n",
      "Epoch 00009: val_loss did not improve from 0.64890\n",
      "10/10 - 67s - loss: 0.5864 - auc_1: 0.8110 - val_loss: 0.6624 - val_auc_1: 0.7089 - 67s/epoch - 7s/step\n",
      "Epoch 10/50\n",
      "\n",
      "Epoch 00010: val_loss did not improve from 0.64890\n",
      "10/10 - 60s - loss: 0.5591 - auc_1: 0.8282 - val_loss: 0.6647 - val_auc_1: 0.7076 - 60s/epoch - 6s/step\n",
      "Epoch 11/50\n",
      "\n",
      "Epoch 00011: val_loss did not improve from 0.64890\n",
      "10/10 - 58s - loss: 0.5850 - auc_1: 0.8084 - val_loss: 0.6677 - val_auc_1: 0.7081 - 58s/epoch - 6s/step\n",
      "Epoch 12/50\n",
      "\n",
      "Epoch 00012: val_loss did not improve from 0.64890\n",
      "10/10 - 58s - loss: 0.5432 - auc_1: 0.8349 - val_loss: 0.6698 - val_auc_1: 0.7076 - 58s/epoch - 6s/step\n",
      "Epoch 13/50\n",
      "\n",
      "Epoch 00013: val_loss did not improve from 0.64890\n",
      "10/10 - 58s - loss: 0.6172 - auc_1: 0.7921 - val_loss: 0.6712 - val_auc_1: 0.7087 - 58s/epoch - 6s/step\n",
      "Epoch 14/50\n",
      "\n",
      "Epoch 00014: val_loss did not improve from 0.64890\n",
      "10/10 - 58s - loss: 0.5699 - auc_1: 0.8267 - val_loss: 0.6728 - val_auc_1: 0.7106 - 58s/epoch - 6s/step\n",
      "Epoch 15/50\n",
      "\n",
      "Epoch 00015: val_loss did not improve from 0.64890\n",
      "10/10 - 62s - loss: 0.5715 - auc_1: 0.8265 - val_loss: 0.6756 - val_auc_1: 0.7095 - 62s/epoch - 6s/step\n",
      "Epoch 16/50\n",
      "\n",
      "Epoch 00016: val_loss did not improve from 0.64890\n",
      "10/10 - 59s - loss: 0.4954 - auc_1: 0.8643 - val_loss: 0.6767 - val_auc_1: 0.7100 - 59s/epoch - 6s/step\n",
      "Epoch 17/50\n",
      "\n",
      "Epoch 00017: val_loss did not improve from 0.64890\n",
      "10/10 - 58s - loss: 0.5763 - auc_1: 0.8195 - val_loss: 0.6768 - val_auc_1: 0.7116 - 58s/epoch - 6s/step\n",
      "Epoch 18/50\n",
      "\n",
      "Epoch 00018: val_loss did not improve from 0.64890\n",
      "10/10 - 58s - loss: 0.5875 - auc_1: 0.8028 - val_loss: 0.6764 - val_auc_1: 0.7130 - 58s/epoch - 6s/step\n",
      "Epoch 19/50\n",
      "\n",
      "Epoch 00019: val_loss did not improve from 0.64890\n",
      "10/10 - 58s - loss: 0.5629 - auc_1: 0.8254 - val_loss: 0.6764 - val_auc_1: 0.7108 - 58s/epoch - 6s/step\n",
      "Epoch 20/50\n",
      "\n",
      "Epoch 00020: val_loss did not improve from 0.64890\n",
      "10/10 - 57s - loss: 0.5476 - auc_1: 0.8338 - val_loss: 0.6779 - val_auc_1: 0.7095 - 57s/epoch - 6s/step\n",
      "Epoch 21/50\n",
      "\n",
      "Epoch 00021: val_loss did not improve from 0.64890\n",
      "10/10 - 54s - loss: 0.5803 - auc_1: 0.8179 - val_loss: 0.6785 - val_auc_1: 0.7122 - 54s/epoch - 5s/step\n",
      "Epoch 00021: early stopping\n"
     ]
    }
   ],
   "source": [
    "# training the model\n",
    "\n",
    "# Before proceeding with training again, lets reset our train and valgen so that they start with sample #0\n",
    "trainGen.reset()\n",
    "valGen.reset()\n",
    "\n",
    "es_tune = EarlyStopping(monitor='val_loss',  \n",
    "                   mode='min',  \n",
    "                   patience=20,  \n",
    "                   verbose=1  \n",
    "                   )\n",
    "\n",
    "mc_tune = ModelCheckpoint('fine_tuned_house.h5', \n",
    "                    monitor='val_loss', \n",
    "                    mode='min', \n",
    "                    verbose=1, \n",
    "                    save_best_only=True)\n",
    "\n",
    "hist = model_fine_tuned.fit(\n",
    "\tx=trainGen,\n",
    "\tsteps_per_epoch=totalTrain // BATCH_SIZE,\n",
    "\tvalidation_data=valGen,\n",
    "\tepochs=50,\n",
    " \tverbose=2,\n",
    "  \tcallbacks=[es_tune, mc_tune]\n",
    "  )"
   ]
  },
  {
   "cell_type": "code",
   "execution_count": 34,
   "metadata": {},
   "outputs": [],
   "source": [
    "def plot_hist(hist, metric):\n",
    "    if metric == 'auc_1':\n",
    "        plt.plot(hist.history[\"auc_1\"])\n",
    "        plt.plot(hist.history[\"val_auc_1\"])\n",
    "    else:\n",
    "        plt.plot(hist.history[\"loss\"])\n",
    "        plt.plot(hist.history[\"val_loss\"])\n",
    "    plt.style.use(\"ggplot\")\n",
    "    plt.title(\"model {}\".format(metric))\n",
    "    plt.ylabel(\"{}\".format(metric))\n",
    "    plt.xlabel(\"epoch\")\n",
    "    plt.legend([\"train\", \"validation\"], loc=\"upper left\")\n",
    "    plt.show()"
   ]
  },
  {
   "cell_type": "code",
   "execution_count": 35,
   "metadata": {},
   "outputs": [
    {
     "data": {
      "image/png": "[encoded data removed]",
      "text/plain": [
       "<Figure size 432x288 with 1 Axes>"
      ]
     },
     "metadata": {},
     "output_type": "display_data"
    }
   ],
   "source": [
    "plot_hist(hist, metric=\"auc_1\")"
   ]
  },
  {
   "cell_type": "code",
   "execution_count": 36,
   "metadata": {},
   "outputs": [
    {
     "data": {
      "image/png": "[encoded data removed]",
      "text/plain": [
       "<Figure size 432x288 with 1 Axes>"
      ]
     },
     "metadata": {},
     "output_type": "display_data"
    }
   ],
   "source": [
    "plot_hist(hist, metric=\"loss\")"
   ]
  },
  {
   "cell_type": "code",
   "execution_count": 48,
   "metadata": {},
   "outputs": [
    {
     "data": {
      "text/plain": [
       "46"
      ]
     },
     "execution_count": 48,
     "metadata": {},
     "output_type": "execute_result"
    }
   ],
   "source": [
    "testGen.reset()\n",
    "\n",
    "predIdxs = model_fine_tuned.predict(x=testGen)\n",
    "\n",
    "predIdxs = np.argmax(predIdxs, axis = 1)\n",
    "len(predIdxs)"
   ]
  },
  {
   "cell_type": "code",
   "execution_count": 49,
   "metadata": {},
   "outputs": [
    {
     "name": "stdout",
     "output_type": "stream",
     "text": [
      "              precision    recall  f1-score   support\n",
      "\n",
      "           M       0.55      0.33      0.41        18\n",
      "           O       0.66      0.82      0.73        28\n",
      "\n",
      "    accuracy                           0.63        46\n",
      "   macro avg       0.60      0.58      0.57        46\n",
      "weighted avg       0.61      0.63      0.61        46\n",
      "\n"
     ]
    }
   ],
   "source": [
    "print(classification_report(testGen.classes, predIdxs,\n",
    "\ttarget_names=testGen.class_indices.keys()))"
   ]
  },
  {
   "cell_type": "code",
   "execution_count": 50,
   "metadata": {},
   "outputs": [],
   "source": [
    "cm = confusion_matrix(testGen.classes, predIdxs)\n"
   ]
  },
  {
   "cell_type": "code",
   "execution_count": 51,
   "metadata": {},
   "outputs": [
    {
     "name": "stdout",
     "output_type": "stream",
     "text": [
      "[[ 6 12]\n",
      " [ 5 23]]\n"
     ]
    }
   ],
   "source": [
    "print(cm)"
   ]
  },
  {
   "cell_type": "code",
   "execution_count": 52,
   "metadata": {},
   "outputs": [
    {
     "name": "stdout",
     "output_type": "stream",
     "text": [
      "{'M': 0, 'O': 1}\n"
     ]
    },
    {
     "data": {
      "image/png": "[encoded data removed]",
      "text/plain": [
       "<Figure size 432x288 with 2 Axes>"
      ]
     },
     "metadata": {},
     "output_type": "display_data"
    }
   ],
   "source": [
    "print(testGen.class_indices)\n",
    "\n",
    "heatmap = sns.heatmap(cm, annot=True)\n",
    "\n",
    "plt.xlabel(\"Predicted\") \n",
    "plt.ylabel(\"Actual\")\n",
    "plt.show()"
   ]
  }
 ],
 "metadata": {
  "interpreter": {
   "hash": "b90776be2c57f72028669c84b7e1a9ce80ccfac1d8e7f8966ec485b1a61088ac"
  },
  "kernelspec": {
   "display_name": "Python 3.9.7 64-bit ('kt': conda)",
   "language": "python",
   "name": "python3"
  },
  "language_info": {
   "codemirror_mode": {
    "name": "ipython",
    "version": 3
   },
   "file_extension": ".py",
   "mimetype": "text/x-python",
   "name": "python",
   "nbconvert_exporter": "python",
   "pygments_lexer": "ipython3",
   "version": "3.9.7"
  },
  "orig_nbformat": 4
 },
 "nbformat": 4,
 "nbformat_minor": 2
}
