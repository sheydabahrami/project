{
 "cells": [
  {
   "cell_type": "code",
   "execution_count": 3,
   "metadata": {},
   "outputs": [
    {
     "name": "stderr",
     "output_type": "stream",
     "text": [
      "100%|██████████| 1000/1000 [00:00<00:00, 500155.50it/s]\n"
     ]
    }
   ],
   "source": [
    "from tqdm import tqdm\n",
    "for i in tqdm(range(1000)):\n",
    "    ..."
   ]
  },
  {
   "cell_type": "code",
   "execution_count": 5,
   "metadata": {},
   "outputs": [
    {
     "name": "stderr",
     "output_type": "stream",
     "text": [
      "Coin Flip Progress: 100%|██████████| 100000000/100000000 [05:55<00:00, 281193.17it/s]\n"
     ]
    }
   ],
   "source": [
    "from random import randint\n",
    "\n",
    "heads = 0\n",
    "tails = 0\n",
    "\n",
    "for i in tqdm(range(100000000), desc='Coin Flip Progress'):\n",
    "    toss = randint(0, 1)\n",
    "    if toss == 0:\n",
    "        heads += 1\n",
    "    else:\n",
    "        tails += 1"
   ]
  },
  {
   "cell_type": "code",
   "execution_count": 6,
   "metadata": {},
   "outputs": [
    {
     "name": "stdout",
     "output_type": "stream",
     "text": [
      "[[3 4]\n",
      " [1 2]\n",
      " [3 4]]\n"
     ]
    }
   ],
   "source": [
    "import numpy as np\n",
    "x = np.array([[[1,2],[3,4],[5,6]]])\n",
    "print(x[[0,0,0],[1,0,1]])"
   ]
  },
  {
   "cell_type": "code",
   "execution_count": 5,
   "metadata": {},
   "outputs": [],
   "source": [
    "from PIL import Image\n",
    "\n",
    "#...\n",
    "IMG_SHAPE = (224,224)\n",
    "file = Image.open('img.jpg')\n",
    "file.show()\n"
   ]
  },
  {
   "cell_type": "code",
   "execution_count": 6,
   "metadata": {},
   "outputs": [],
   "source": [
    "import numpy as np\n",
    "np.asarray(file).shape\n",
    "if file.size != IMG_SHAPE:\n",
    "    file = file.resize(IMG_SHAPE)\n",
    "    file_shape = np.asarray(file).shape"
   ]
  },
  {
   "cell_type": "code",
   "execution_count": 11,
   "metadata": {},
   "outputs": [],
   "source": [
    "file_shape = np.asarray(file).shape"
   ]
  },
  {
   "cell_type": "code",
   "execution_count": 12,
   "metadata": {},
   "outputs": [
    {
     "name": "stdout",
     "output_type": "stream",
     "text": [
      "(224, 224, 3)\n"
     ]
    }
   ],
   "source": [
    "print(file_shape)"
   ]
  },
  {
   "cell_type": "code",
   "execution_count": 9,
   "metadata": {},
   "outputs": [
    {
     "name": "stdout",
     "output_type": "stream",
     "text": [
      "True\n"
     ]
    }
   ],
   "source": [
    "if file.size == IMG_SHAPE:\n",
    "    print(\"True\")"
   ]
  },
  {
   "cell_type": "code",
   "execution_count": 10,
   "metadata": {},
   "outputs": [
    {
     "name": "stdout",
     "output_type": "stream",
     "text": [
      "(224, 224)\n"
     ]
    }
   ],
   "source": [
    "print(file.size)"
   ]
  },
  {
   "cell_type": "code",
   "execution_count": 17,
   "metadata": {},
   "outputs": [
    {
     "name": "stdout",
     "output_type": "stream",
     "text": [
      "(224, 224, 3, 1)\n"
     ]
    }
   ],
   "source": [
    "print(np.expand_dims(file, axis=3).shape)"
   ]
  },
  {
   "cell_type": "code",
   "execution_count": 24,
   "metadata": {},
   "outputs": [],
   "source": [
    "# api_test.py\n",
    "import base64\n",
    "import numpy as np\n",
    "from PIL import Image\n",
    "from flask import Flask, render_template, request, jsonify\n",
    "from tensorflow.keras.models import load_model\n",
    "\n",
    "IMG_SHAPE = (224,224)\n",
    "CLASSES = [\"Modern\", \"Old\"]\n",
    "model = load_model('fine_tuned_house.h5')\n"
   ]
  },
  {
   "cell_type": "code",
   "execution_count": null,
   "metadata": {},
   "outputs": [],
   "source": []
  },
  {
   "cell_type": "code",
   "execution_count": 25,
   "metadata": {},
   "outputs": [],
   "source": [
    "def getfpath(img) -> str:\n",
    "    # Even if img was read before, we put the pointer back to beginning of file\n",
    "    img.seek(0) \n",
    "\n",
    "    # convert to bases64\n",
    "    data = img.read()              # get data from file (BytesIO)\n",
    "    data = base64.b64encode(data)  # convert to base64 as bytes\n",
    "    data = data.decode()           # convert bytes to string\n",
    "\n",
    "    # convert to <img> with embed image\n",
    "    fpath = \"data:image/png;base64,{}\".format(data)\n",
    "    return fpath"
   ]
  },
  {
   "cell_type": "code",
   "execution_count": 26,
   "metadata": {},
   "outputs": [
    {
     "name": "stdout",
     "output_type": "stream",
     "text": [
      " * Serving Flask app \"__main__\" (lazy loading)\n",
      " * Environment: production\n",
      "\u001b[31m   WARNING: This is a development server. Do not use it in a production deployment.\u001b[0m\n",
      "\u001b[2m   Use a production WSGI server instead.\u001b[0m\n",
      " * Debug mode: on\n"
     ]
    },
    {
     "name": "stderr",
     "output_type": "stream",
     "text": [
      " * Restarting with watchdog (windowsapi)\n"
     ]
    },
    {
     "ename": "SystemExit",
     "evalue": "1",
     "output_type": "error",
     "traceback": [
      "An exception has occurred, use %tb to see the full traceback.\n",
      "\u001b[1;31mSystemExit\u001b[0m\u001b[1;31m:\u001b[0m 1\n"
     ]
    },
    {
     "name": "stderr",
     "output_type": "stream",
     "text": [
      "C:\\Users\\seyda\\AppData\\Roaming\\Python\\Python39\\site-packages\\IPython\\core\\interactiveshell.py:3425: UserWarning: To exit: use 'exit', 'quit', or Ctrl-D.\n",
      "  warn(\"To exit: use 'exit', 'quit', or Ctrl-D.\", stacklevel=1)\n"
     ]
    }
   ],
   "source": [
    "app = Flask(__name__)\n",
    "\n",
    "# basic first page\n",
    "@app.route('/')\n",
    "def intro():\n",
    "      return render_template('index.html')\n",
    "\n",
    "@app.route('/predict-interior', methods=['POST'])\n",
    "def predict():\n",
    "    f = request.files['img']\n",
    "    fpath = getfpath(f)\n",
    "    file = Image.open(f)\n",
    "    file_shape = np.asarray(file).shape\n",
    "    #### PREDICTION STARTS HERE ####\n",
    "    \n",
    "    # resize image to (224,224) if needed\n",
    "    if file.size != IMG_SHAPE:\n",
    "        file = file.resize(IMG_SHAPE)\n",
    "        file_shape = np.asarray(file).shape\n",
    "    \n",
    "    # pass the image through the network to obtain our predictions\n",
    "    preds = model.predict(np.expand_dims(file, axis=0))[0]\n",
    "    i = np.argmax(preds)\n",
    "    label = CLASSES[i]\n",
    "    prob = preds[i]\n",
    "    \n",
    "    pred_output={\n",
    "    'img_size': file_shape,\n",
    "    'label': label,\n",
    "    'probability': np.round(prob*100,2)\n",
    "    }  \n",
    "    \n",
    "    return render_template('index.html', \n",
    "                           img_shape=file_shape,\n",
    "                           user_image=fpath,\n",
    "                           pred_output=pred_output\n",
    "                           )\n",
    "if __name__==\"__main__\":\n",
    "    app.run(debug=True)\n"
   ]
  },
  {
   "cell_type": "code",
   "execution_count": 27,
   "metadata": {},
   "outputs": [
    {
     "ename": "NameError",
     "evalue": "name 'data' is not defined",
     "output_type": "error",
     "traceback": [
      "\u001b[1;31m---------------------------------------------------------------------------\u001b[0m",
      "\u001b[1;31mNameError\u001b[0m                                 Traceback (most recent call last)",
      "\u001b[1;32m<ipython-input-27-73c246062400>\u001b[0m in \u001b[0;36m<module>\u001b[1;34m\u001b[0m\n\u001b[1;32m----> 1\u001b[1;33m \u001b[0mfpath\u001b[0m \u001b[1;33m=\u001b[0m \u001b[1;34m\"data:image/png;base64,{}\"\u001b[0m\u001b[1;33m.\u001b[0m\u001b[0mformat\u001b[0m\u001b[1;33m(\u001b[0m\u001b[0mdata\u001b[0m\u001b[1;33m)\u001b[0m\u001b[1;33m\u001b[0m\u001b[1;33m\u001b[0m\u001b[0m\n\u001b[0m",
      "\u001b[1;31mNameError\u001b[0m: name 'data' is not defined"
     ]
    }
   ],
   "source": [
    "fpath = \"data:image/png;base64,{}\".format(data)"
   ]
  },
  {
   "cell_type": "code",
   "execution_count": 33,
   "metadata": {},
   "outputs": [],
   "source": [
    "def getfpath(img):\n",
    "    # Even if img was read before, we put the pointer back to beginning of file\n",
    "    img.seek(0) \n",
    "\n",
    "    # convert to bases64\n",
    "    data = img.read()              # get data from file (BytesIO)\n",
    "    data = base64.b64encode(data)  # convert to base64 as bytes\n",
    "    data = data.decode()           # convert bytes to string\n",
    "\n",
    "    # convert to <img> with embed image\n",
    "    fpath = \"data:image/png;base64,{}\".format(data)\n",
    "    \n",
    "    return fpath"
   ]
  },
  {
   "cell_type": "code",
   "execution_count": 36,
   "metadata": {},
   "outputs": [
    {
     "ename": "AttributeError",
     "evalue": "'JpegImageFile' object has no attribute 'read'",
     "output_type": "error",
     "traceback": [
      "\u001b[1;31m---------------------------------------------------------------------------\u001b[0m",
      "\u001b[1;31mAttributeError\u001b[0m                            Traceback (most recent call last)",
      "\u001b[1;32m<ipython-input-36-180e7e4bf4e8>\u001b[0m in \u001b[0;36m<module>\u001b[1;34m\u001b[0m\n\u001b[1;32m----> 1\u001b[1;33m \u001b[0mgetfpath\u001b[0m\u001b[1;33m(\u001b[0m\u001b[0mimg\u001b[0m\u001b[1;33m)\u001b[0m\u001b[1;33m\u001b[0m\u001b[1;33m\u001b[0m\u001b[0m\n\u001b[0m",
      "\u001b[1;32m<ipython-input-33-c07287b6e114>\u001b[0m in \u001b[0;36mgetfpath\u001b[1;34m(img)\u001b[0m\n\u001b[0;32m      4\u001b[0m \u001b[1;33m\u001b[0m\u001b[0m\n\u001b[0;32m      5\u001b[0m     \u001b[1;31m# convert to bases64\u001b[0m\u001b[1;33m\u001b[0m\u001b[1;33m\u001b[0m\u001b[0m\n\u001b[1;32m----> 6\u001b[1;33m     \u001b[0mdata\u001b[0m \u001b[1;33m=\u001b[0m \u001b[0mimg\u001b[0m\u001b[1;33m.\u001b[0m\u001b[0mread\u001b[0m\u001b[1;33m(\u001b[0m\u001b[1;33m)\u001b[0m              \u001b[1;31m# get data from file (BytesIO)\u001b[0m\u001b[1;33m\u001b[0m\u001b[1;33m\u001b[0m\u001b[0m\n\u001b[0m\u001b[0;32m      7\u001b[0m     \u001b[0mdata\u001b[0m \u001b[1;33m=\u001b[0m \u001b[0mbase64\u001b[0m\u001b[1;33m.\u001b[0m\u001b[0mb64encode\u001b[0m\u001b[1;33m(\u001b[0m\u001b[0mdata\u001b[0m\u001b[1;33m)\u001b[0m  \u001b[1;31m# convert to base64 as bytes\u001b[0m\u001b[1;33m\u001b[0m\u001b[1;33m\u001b[0m\u001b[0m\n\u001b[0;32m      8\u001b[0m     \u001b[0mdata\u001b[0m \u001b[1;33m=\u001b[0m \u001b[0mdata\u001b[0m\u001b[1;33m.\u001b[0m\u001b[0mdecode\u001b[0m\u001b[1;33m(\u001b[0m\u001b[1;33m)\u001b[0m           \u001b[1;31m# convert bytes to string\u001b[0m\u001b[1;33m\u001b[0m\u001b[1;33m\u001b[0m\u001b[0m\n",
      "\u001b[1;31mAttributeError\u001b[0m: 'JpegImageFile' object has no attribute 'read'"
     ]
    }
   ],
   "source": [
    "getfpath(img)"
   ]
  }
 ],
 "metadata": {
  "interpreter": {
   "hash": "b90776be2c57f72028669c84b7e1a9ce80ccfac1d8e7f8966ec485b1a61088ac"
  },
  "kernelspec": {
   "display_name": "Python 3.9.7 64-bit ('kt': conda)",
   "language": "python",
   "name": "python3"
  },
  "language_info": {
   "codemirror_mode": {
    "name": "ipython",
    "version": 3
   },
   "file_extension": ".py",
   "mimetype": "text/x-python",
   "name": "python",
   "nbconvert_exporter": "python",
   "pygments_lexer": "ipython3",
   "version": "3.9.7"
  },
  "orig_nbformat": 4
 },
 "nbformat": 4,
 "nbformat_minor": 2
}
